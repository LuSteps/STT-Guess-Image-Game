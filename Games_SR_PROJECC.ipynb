{
  "cells": [
    {
      "cell_type": "code",
      "execution_count": null,
      "metadata": {
        "colab": {
          "base_uri": "https://localhost:8080/"
        },
        "id": "FtZVHoFGxEHL",
        "outputId": "ce1b65d6-054b-4335-fb7b-aff7c15df2d5"
      },
      "outputs": [
        {
          "output_type": "stream",
          "name": "stdout",
          "text": [
            "Mounted at /content/drive\n"
          ]
        }
      ],
      "source": [
        "from google.colab import drive\n",
        "drive.mount('/content/drive')"
      ]
    },
    {
      "cell_type": "markdown",
      "metadata": {
        "id": "35a9kcYLestM"
      },
      "source": [
        "## Data Download"
      ]
    },
    {
      "cell_type": "code",
      "execution_count": null,
      "metadata": {
        "colab": {
          "base_uri": "https://localhost:8080/"
        },
        "id": "rEZoutYVdUww",
        "outputId": "ec5993ef-b9c8-47a2-f2a6-7ba83478d30b"
      },
      "outputs": [
        {
          "output_type": "stream",
          "name": "stdout",
          "text": [
            "Downloading...\n",
            "From: https://drive.google.com/uc?id=1mmYhPMDT9ouz5L2bAL5w6A0S6GoY8IOo\n",
            "To: /content/kaggle.json\n",
            "\r  0% 0.00/62.0 [00:00<?, ?B/s]\r100% 62.0/62.0 [00:00<00:00, 249kB/s]\n"
          ]
        }
      ],
      "source": [
        "!gdown 1mmYhPMDT9ouz5L2bAL5w6A0S6GoY8IOo"
      ]
    },
    {
      "cell_type": "code",
      "execution_count": null,
      "metadata": {
        "id": "ogM8KT7LdnI2"
      },
      "outputs": [],
      "source": [
        "!pip install -q kaggle\n",
        "# The kaggle API client expects the file to be in ~/.kaggle, so move it there\n",
        "\n",
        "!mkdir -p ~/.kaggle #Create the directory\n",
        "!cp kaggle.json ~/.kaggle/"
      ]
    },
    {
      "cell_type": "code",
      "execution_count": null,
      "metadata": {
        "colab": {
          "base_uri": "https://localhost:8080/"
        },
        "id": "zmdWxtqYdoWu",
        "outputId": "c9e57c50-8be6-47db-ddb4-46ec5b53be6c"
      },
      "outputs": [
        {
          "output_type": "stream",
          "name": "stdout",
          "text": [
            "/content\n"
          ]
        }
      ],
      "source": [
        "# Now all you need is to set permissions to the json file\n",
        "!chmod 600 /root/.kaggle/kaggle.json\n",
        "\n",
        "# check your directory before downloading the datasets\n",
        "!pwd #Print Working Directory"
      ]
    },
    {
      "cell_type": "code",
      "execution_count": null,
      "metadata": {
        "colab": {
          "base_uri": "https://localhost:8080/"
        },
        "id": "2G-vPYnbeAos",
        "outputId": "197a4fde-789e-46a0-f74e-54e79bc55413"
      },
      "outputs": [
        {
          "output_type": "stream",
          "name": "stdout",
          "text": [
            "Downloading images-dataset.zip to /content\n",
            " 99% 1.00G/1.01G [00:11<00:00, 92.3MB/s]\n",
            "100% 1.01G/1.01G [00:11<00:00, 95.9MB/s]\n"
          ]
        }
      ],
      "source": [
        "!kaggle datasets download -d pavansanagapati/images-dataset"
      ]
    },
    {
      "cell_type": "code",
      "execution_count": null,
      "metadata": {
        "id": "KF0OspmbeMGo"
      },
      "outputs": [],
      "source": [
        "!unzip images-dataset.zip"
      ]
    },
    {
      "cell_type": "markdown",
      "metadata": {
        "id": "V3dYn1NHey8M"
      },
      "source": [
        "##Ambil label dan gambar random"
      ]
    },
    {
      "cell_type": "code",
      "execution_count": null,
      "metadata": {
        "id": "Qg5vyhnnexS5"
      },
      "outputs": [],
      "source": [
        "import os\n",
        "import random\n",
        "from skimage import io\n",
        "import IPython.display as display\n",
        "from PIL import Image\n",
        "import requests\n",
        "from io import BytesIO\n",
        "import matplotlib.pyplot as plt\n",
        "\n",
        "\n",
        "def random_print_Image():\n",
        "  # Define the path to the main folder containing subfolders with labeled images\n",
        "  main_folder_path = '/content/data/data'\n",
        "\n",
        "  # Get a list of subfolder names (labels)\n",
        "  labels = os.listdir(main_folder_path)\n",
        "\n",
        "  # Select a random label (subfolder) from the list, kunci jawaban\n",
        "  random_label = random.choice(labels)\n",
        "\n",
        "  # Get a list of image filenames within the subfolder\n",
        "  subfolder_path = os.path.join(main_folder_path, random_label)\n",
        "  image_files = os.listdir(subfolder_path)\n",
        "\n",
        "  # Select a random image filename from the list\n",
        "  random_image_filename = random.choice(image_files)\n",
        "\n",
        "  # Get the path to the randomly selected image file\n",
        "  image_path = os.path.join(subfolder_path, random_image_filename)\n",
        "\n",
        "  # Load the image from a URL\n",
        "  image = Image.open(image_path)\n",
        "\n",
        "  # Display the image\n",
        "  # plt.imshow(image)\n",
        "  # plt.show()\n",
        "\n",
        "  image.show()\n",
        "\n",
        "  return random_label"
      ]
    },
    {
      "cell_type": "markdown",
      "metadata": {
        "id": "V5ncRUwJrRjV"
      },
      "source": [
        "## Answer Checking, STT"
      ]
    },
    {
      "cell_type": "code",
      "execution_count": null,
      "metadata": {
        "id": "9bTCOjXUexmb"
      },
      "outputs": [],
      "source": [
        "def predict(AUDIO_PATH):\n",
        "  import torch, torchaudio\n",
        "\n",
        "  waveform, sr = torchaudio.load(AUDIO_PATH)\n",
        "\n",
        "  bundle = torchaudio.pipelines.WAV2VEC2_ASR_BASE_960H\n",
        "\n",
        "  device = torch.device('cuda' if torch.cuda.is_available() else 'cpu')\n",
        "  model = bundle.get_model().to(device)\n",
        "  waveform = waveform.to(device)\n",
        "\n",
        "  if sr != bundle.sample_rate:\n",
        "    waveform = torchaudio.functional.resample(waveform, sr, bundle.sample_rate)\n",
        "\n",
        "  with torch.inference_mode():\n",
        "    emission, _ = model(waveform)\n",
        "\n",
        "  class GreedyCTCDecoder(torch.nn.Module):\n",
        "    def __init__(self, label, blank=0):\n",
        "      super().__init__()\n",
        "      self.label = label\n",
        "      self.blank = blank\n",
        "\n",
        "    def forward(self, emission=torch.Tensor):\n",
        "      index = torch.argmax(emission, dim=-1)\n",
        "      index = torch.unique_consecutive(index, dim=-1)\n",
        "\n",
        "      index = [i for i in index\n",
        "               if i != self.blank]\n",
        "\n",
        "      return ''.join([self.label[i]\n",
        "                      for i in index])\n",
        "\n",
        "  decoder = GreedyCTCDecoder(label=bundle.get_labels())\n",
        "  transcribe = decoder(emission[0])\n",
        "\n",
        "  return transcribe.replace('|', '')"
      ]
    },
    {
      "cell_type": "markdown",
      "metadata": {
        "id": "CVR0vzW9ztNG"
      },
      "source": [
        "#GAME"
      ]
    },
    {
      "cell_type": "code",
      "execution_count": null,
      "metadata": {
        "id": "W5Y7q2GuEMis",
        "colab": {
          "base_uri": "https://localhost:8080/"
        },
        "outputId": "10029cb7-9fb7-414b-9b1a-df2e4dc2ac05"
      },
      "outputs": [
        {
          "output_type": "stream",
          "name": "stdout",
          "text": [
            "Looking in indexes: https://pypi.org/simple, https://us-python.pkg.dev/colab-wheels/public/simple/\n",
            "Collecting import_ipynb\n",
            "  Downloading import_ipynb-0.1.4-py3-none-any.whl (4.1 kB)\n",
            "Requirement already satisfied: IPython in /usr/local/lib/python3.10/dist-packages (from import_ipynb) (7.34.0)\n",
            "Requirement already satisfied: nbformat in /usr/local/lib/python3.10/dist-packages (from import_ipynb) (5.8.0)\n",
            "Requirement already satisfied: setuptools>=18.5 in /usr/local/lib/python3.10/dist-packages (from IPython->import_ipynb) (67.7.2)\n",
            "Collecting jedi>=0.16 (from IPython->import_ipynb)\n",
            "  Downloading jedi-0.18.2-py2.py3-none-any.whl (1.6 MB)\n",
            "\u001b[2K     \u001b[90m━━━━━━━━━━━━━━━━━━━━━━━━━━━━━━━━━━━━━━━━\u001b[0m \u001b[32m1.6/1.6 MB\u001b[0m \u001b[31m21.7 MB/s\u001b[0m eta \u001b[36m0:00:00\u001b[0m\n",
            "\u001b[?25hRequirement already satisfied: decorator in /usr/local/lib/python3.10/dist-packages (from IPython->import_ipynb) (4.4.2)\n",
            "Requirement already satisfied: pickleshare in /usr/local/lib/python3.10/dist-packages (from IPython->import_ipynb) (0.7.5)\n",
            "Requirement already satisfied: traitlets>=4.2 in /usr/local/lib/python3.10/dist-packages (from IPython->import_ipynb) (5.7.1)\n",
            "Requirement already satisfied: prompt-toolkit!=3.0.0,!=3.0.1,<3.1.0,>=2.0.0 in /usr/local/lib/python3.10/dist-packages (from IPython->import_ipynb) (3.0.38)\n",
            "Requirement already satisfied: pygments in /usr/local/lib/python3.10/dist-packages (from IPython->import_ipynb) (2.14.0)\n",
            "Requirement already satisfied: backcall in /usr/local/lib/python3.10/dist-packages (from IPython->import_ipynb) (0.2.0)\n",
            "Requirement already satisfied: matplotlib-inline in /usr/local/lib/python3.10/dist-packages (from IPython->import_ipynb) (0.1.6)\n",
            "Requirement already satisfied: pexpect>4.3 in /usr/local/lib/python3.10/dist-packages (from IPython->import_ipynb) (4.8.0)\n",
            "Requirement already satisfied: fastjsonschema in /usr/local/lib/python3.10/dist-packages (from nbformat->import_ipynb) (2.16.3)\n",
            "Requirement already satisfied: jsonschema>=2.6 in /usr/local/lib/python3.10/dist-packages (from nbformat->import_ipynb) (4.3.3)\n",
            "Requirement already satisfied: jupyter-core in /usr/local/lib/python3.10/dist-packages (from nbformat->import_ipynb) (5.3.0)\n",
            "Requirement already satisfied: parso<0.9.0,>=0.8.0 in /usr/local/lib/python3.10/dist-packages (from jedi>=0.16->IPython->import_ipynb) (0.8.3)\n",
            "Requirement already satisfied: attrs>=17.4.0 in /usr/local/lib/python3.10/dist-packages (from jsonschema>=2.6->nbformat->import_ipynb) (23.1.0)\n",
            "Requirement already satisfied: pyrsistent!=0.17.0,!=0.17.1,!=0.17.2,>=0.14.0 in /usr/local/lib/python3.10/dist-packages (from jsonschema>=2.6->nbformat->import_ipynb) (0.19.3)\n",
            "Requirement already satisfied: ptyprocess>=0.5 in /usr/local/lib/python3.10/dist-packages (from pexpect>4.3->IPython->import_ipynb) (0.7.0)\n",
            "Requirement already satisfied: wcwidth in /usr/local/lib/python3.10/dist-packages (from prompt-toolkit!=3.0.0,!=3.0.1,<3.1.0,>=2.0.0->IPython->import_ipynb) (0.2.6)\n",
            "Requirement already satisfied: platformdirs>=2.5 in /usr/local/lib/python3.10/dist-packages (from jupyter-core->nbformat->import_ipynb) (3.3.0)\n",
            "Installing collected packages: jedi, import_ipynb\n",
            "Successfully installed import_ipynb-0.1.4 jedi-0.18.2\n"
          ]
        }
      ],
      "source": [
        "!pip install import_ipynb\n",
        "import import_ipynb"
      ]
    },
    {
      "cell_type": "code",
      "execution_count": null,
      "metadata": {
        "id": "sfxKKMZ-E8pI",
        "colab": {
          "base_uri": "https://localhost:8080/",
          "height": 123
        },
        "outputId": "2ffec9e1-9690-4bd9-b459-f209ccdf847c"
      },
      "outputs": [
        {
          "output_type": "stream",
          "name": "stdout",
          "text": [
            "importing Jupyter notebook from Recording1.ipynb\n",
            "Drive already mounted at /content/drive; to attempt to forcibly remount, call drive.mount(\"/content/drive\", force_remount=True).\n",
            "Looking in indexes: https://pypi.org/simple, https://us-python.pkg.dev/colab-wheels/public/simple/\n",
            "Requirement already satisfied: ffmpeg-python in /usr/local/lib/python3.10/dist-packages (0.2.0)\n",
            "Requirement already satisfied: future in /usr/local/lib/python3.10/dist-packages (from ffmpeg-python) (0.18.3)\n"
          ]
        },
        {
          "output_type": "display_data",
          "data": {
            "text/plain": [
              "<IPython.core.display.HTML object>"
            ],
            "text/html": [
              "\n",
              "  <script>\n",
              "  var my_div = document.createElement(\"DIV\");\n",
              "  var my_p = document.createElement(\"P\");\n",
              "  var my_btn = document.createElement(\"BUTTON\");\n",
              "  var t = document.createTextNode(\"Press to start recording\");\n",
              "\n",
              "  my_btn.appendChild(t);\n",
              "  //my_p.appendChild(my_btn);\n",
              "  my_div.appendChild(my_btn);\n",
              "  document.body.appendChild(my_div);\n",
              "\n",
              "  var base64data = 0;\n",
              "  var reader;\n",
              "  var recorder, gumStream;\n",
              "  var recordButton = my_btn;\n",
              "\n",
              "  var handleSuccess = function(stream) {\n",
              "    gumStream = stream;\n",
              "    var options = {\n",
              "      //bitsPerSecond: 8000, //chrome seems to ignore, always 48k\n",
              "      mimeType : 'audio/webm;codecs=opus'\n",
              "      //mimeType : 'audio/webm;codecs=pcm'\n",
              "    };\n",
              "    //recorder = new MediaRecorder(stream, options);\n",
              "    recorder = new MediaRecorder(stream);\n",
              "    recorder.ondataavailable = function(e) {\n",
              "      var url = URL.createObjectURL(e.data);\n",
              "      var preview = document.createElement('audio');\n",
              "      preview.controls = true;\n",
              "      preview.src = url;\n",
              "      document.body.appendChild(preview);\n",
              "\n",
              "      reader = new FileReader();\n",
              "      reader.readAsDataURL(e.data);\n",
              "      reader.onloadend = function() {\n",
              "        base64data = reader.result;\n",
              "        //console.log(\"Inside FileReader:\" + base64data);\n",
              "      }\n",
              "    };\n",
              "    recorder.start();\n",
              "    };\n",
              "\n",
              "  recordButton.innerText = \"Recording... press to stop\";\n",
              "\n",
              "  navigator.mediaDevices.getUserMedia({audio: true}).then(handleSuccess);\n",
              "\n",
              "\n",
              "  function toggleRecording() {\n",
              "    if (recorder && recorder.state == \"recording\") {\n",
              "        recorder.stop();\n",
              "        gumStream.getAudioTracks()[0].stop();\n",
              "        recordButton.innerText = \"Saving the recording... pls wait!\"\n",
              "    }\n",
              "  }\n",
              "\n",
              "  // https://stackoverflow.com/a/951057\n",
              "  function sleep(ms) {\n",
              "    return new Promise(resolve => setTimeout(resolve, ms));\n",
              "  }\n",
              "\n",
              "  var data = new Promise(resolve=>{\n",
              "  //recordButton.addEventListener(\"click\", toggleRecording);\n",
              "  recordButton.onclick = ()=>{\n",
              "  toggleRecording()\n",
              "\n",
              "  sleep(2000).then(() => {\n",
              "    // wait 2000ms for the data to be available...\n",
              "    // ideally this should use something like await...\n",
              "    //console.log(\"Inside data:\" + base64data)\n",
              "    resolve(base64data.toString())\n",
              "\n",
              "  });\n",
              "\n",
              "  }\n",
              "  });\n",
              "\n",
              "  </script>\n",
              "  "
            ]
          },
          "metadata": {}
        }
      ],
      "source": [
        "#donlot colab yg recording as ipynb, trus upload ke sini\n",
        "!gdown 1yATu_T6LKdFBWZNGuiihuBBqxrKbqjNC\n",
        "!unzip\n",
        "import Recording1 #import file recording1.ipynb"
      ]
    },
    {
      "cell_type": "code",
      "execution_count": null,
      "metadata": {
        "id": "X_VZWduq0yhH"
      },
      "outputs": [],
      "source": [
        "from IPython.display import clear_output\n",
        "import time\n",
        "import sys\n",
        "\n",
        "\n",
        "def menu():\n",
        "  clear_output()\n",
        "\n",
        "  score = 0\n",
        "  high_score = 0\n",
        "\n",
        "  print('Image Guessing Game\\n\\n1. Start Game\\n2. View High Score\\n3. Exit')\n",
        "  x = int(input('Enter option: '))\n",
        "\n",
        "  clear_output()\n",
        "\n",
        "  # def gameFunc():\n",
        "    # answer = random_print_Image()\n",
        "    # print('Talk Here: https://colab.research.google.com/drive/1bTv5kbWb5IOcGXSrMBDAiFLR40cx_Rqy#scrollTo=FP86TbtgqbYY&line=2&uniqifier=1')\n",
        "\n",
        "    # time.sleep(20)\n",
        "\n",
        "    # drive.mount('/content/drive/',force_remount=True) #refresh audio baru\n",
        "    # attempted = predict('/content/drive/MyDrive/records.mp3').lower()\n",
        "    # if answer in attempted.replace(' ', ''):\n",
        "    #   score += 100\n",
        "    #   print('Nice One!\\n')\n",
        "\n",
        "    # else:\n",
        "    #   print('Nice Try!\\n')\n",
        "    #   print('Attempt', attempted, ' Answer', answer)\n",
        "\n",
        "    # y = input('Press enter to continue...')\n",
        "\n",
        "  if x == 1:\n",
        "    # start_time = time.time()\n",
        "    # end_time = start_time + 60 #main semenit\n",
        "\n",
        "    while True:\n",
        "      answer = random_print_Image()\n",
        "      Recording1.record()\n",
        "\n",
        "      time.sleep(1)\n",
        "\n",
        "      # drive.flush_and_unmount()\n",
        "\n",
        "      attempted = predict('/content/drive/MyDrive/records.mp3').lower()\n",
        "      if answer in attempted.replace(' ', ''):\n",
        "        score += 100\n",
        "        print(f'Nice One! the answer was {answer}\\n')\n",
        "\n",
        "      else:\n",
        "        print('Nice Try!\\n')\n",
        "        print('Attempt', attempted, ' Answer', answer)\n",
        "\n",
        "      print(f'Your Score is {score}\\n')\n",
        "      if score > high_score:\n",
        "        high_score = score\n",
        "\n",
        "      y = input('Press 1 to main menu or enter to continue...')\n",
        "      if y == '1':\n",
        "        menu()\n",
        "\n",
        "    # print('Game Over!')\n",
        "    # y = input('Press enter to continue...')\n",
        "\n",
        "\n",
        "\n",
        "  elif x == 2:\n",
        "    print('Your High Score is: ', high_score)\n",
        "    y = input('\\nPress enter to continue...')\n",
        "\n",
        "  elif x == 3:\n",
        "    sys.exit('Thanks for playing!')\n",
        "\n",
        "  else:\n",
        "    x = int(input('Enter option: '))\n",
        "\n",
        "\n",
        "  menu()\n",
        "\n",
        "menu()\n"
      ]
    }
  ],
  "metadata": {
    "colab": {
      "collapsed_sections": [
        "hg5qe5V_0roA"
      ],
      "provenance": []
    },
    "kernelspec": {
      "display_name": "Python 3",
      "name": "python3"
    },
    "language_info": {
      "name": "python"
    }
  },
  "nbformat": 4,
  "nbformat_minor": 0
}